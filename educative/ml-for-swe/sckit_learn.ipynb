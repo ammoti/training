{
 "cells": [
  {
   "cell_type": "code",
   "execution_count": 2,
   "metadata": {},
   "outputs": [],
   "source": [
    "from sklearn.preprocessing import scale\n",
    "from sklearn import datasets\n",
    "from sklearn.preprocessing import MinMaxScaler"
   ]
  },
  {
   "cell_type": "code",
   "execution_count": 3,
   "metadata": {},
   "outputs": [
    {
     "name": "stdout",
     "output_type": "stream",
     "text": [
      "X shape: (1797, 64)\n",
      "y shape: (1797,)\n"
     ]
    }
   ],
   "source": [
    "data_frame = datasets.load_wine()\n",
    "X = data_frame.data\n",
    "y = data_frame.target\n",
    "\n",
    "print('X shape:', X.shape)\n",
    "print('y shape:', y.shape)"
   ]
  },
  {
   "cell_type": "code",
   "execution_count": 4,
   "metadata": {},
   "outputs": [
    {
     "name": "stdout",
     "output_type": "stream",
     "text": [
      "array([[ 0.,  0.,  5., ...,  0.,  0.,  0.],\n",
      "       [ 0.,  0.,  0., ..., 10.,  0.,  0.],\n",
      "       [ 0.,  0.,  0., ..., 16.,  9.,  0.],\n",
      "       ...,\n",
      "       [ 0.,  0.,  1., ...,  6.,  0.,  0.],\n",
      "       [ 0.,  0.,  2., ..., 12.,  0.,  0.],\n",
      "       [ 0.,  0., 10., ..., 12.,  1.,  0.]])\n",
      "\n",
      "array([[ 0.        , -0.33501649, -0.04308102, ..., -1.14664746,\n",
      "        -0.5056698 , -0.19600752],\n",
      "       [ 0.        , -0.33501649, -1.09493684, ...,  0.54856067,\n",
      "        -0.5056698 , -0.19600752],\n",
      "       [ 0.        , -0.33501649, -1.09493684, ...,  1.56568555,\n",
      "         1.6951369 , -0.19600752],\n",
      "       ...,\n",
      "       [ 0.        , -0.33501649, -0.88456568, ..., -0.12952258,\n",
      "        -0.5056698 , -0.19600752],\n",
      "       [ 0.        , -0.33501649, -0.67419451, ...,  0.8876023 ,\n",
      "        -0.5056698 , -0.19600752],\n",
      "       [ 0.        , -0.33501649,  1.00877481, ...,  0.8876023 ,\n",
      "        -0.26113572, -0.19600752]])\n",
      "\n"
     ]
    }
   ],
   "source": [
    "print('{}\\n'.format(repr(X)))\n",
    "col_standardized = scale(X)\n",
    "print('{}\\n'.format(repr(col_standardized)))"
   ]
  },
  {
   "cell_type": "code",
   "execution_count": 8,
   "metadata": {},
   "outputs": [
    {
     "name": "stdout",
     "output_type": "stream",
     "text": [
      "array([[0.    , 0.    , 0.3125, ..., 0.    , 0.    , 0.    ],\n",
      "       [0.    , 0.    , 0.    , ..., 0.625 , 0.    , 0.    ],\n",
      "       [0.    , 0.    , 0.    , ..., 1.    , 0.5625, 0.    ],\n",
      "       ...,\n",
      "       [0.    , 0.    , 0.0625, ..., 0.375 , 0.    , 0.    ],\n",
      "       [0.    , 0.    , 0.125 , ..., 0.75  , 0.    , 0.    ],\n",
      "       [0.    , 0.    , 0.625 , ..., 0.75  , 0.0625, 0.    ]])\n",
      "\n",
      "array([[ 5.    ,  5.    ,  6.5625, ...,  5.    ,  5.    ,  5.    ],\n",
      "       [ 5.    ,  5.    ,  5.    , ...,  8.125 ,  5.    ,  5.    ],\n",
      "       [ 5.    ,  5.    ,  5.    , ..., 10.    ,  7.8125,  5.    ],\n",
      "       ...,\n",
      "       [ 5.    ,  5.    ,  5.3125, ...,  6.875 ,  5.    ,  5.    ],\n",
      "       [ 5.    ,  5.    ,  5.625 , ...,  8.75  ,  5.    ,  5.    ],\n",
      "       [ 5.    ,  5.    ,  8.125 , ...,  8.75  ,  5.3125,  5.    ]])\n",
      "\n"
     ]
    }
   ],
   "source": [
    "defaul_scaler = MinMaxScaler()\n",
    "transformed = defaul_scaler.fit_transform(X)\n",
    "print('{}\\n'.format(repr(transformed)))\n",
    "\n",
    "custom_scaler = MinMaxScaler(feature_range=(5, 10))\n",
    "transformed = custom_scaler.fit_transform(X)\n",
    "print('{}\\n'.format(repr(transformed)))"
   ]
  }
 ],
 "metadata": {
  "kernelspec": {
   "display_name": ".venv",
   "language": "python",
   "name": "python3"
  },
  "language_info": {
   "codemirror_mode": {
    "name": "ipython",
    "version": 3
   },
   "file_extension": ".py",
   "mimetype": "text/x-python",
   "name": "python",
   "nbconvert_exporter": "python",
   "pygments_lexer": "ipython3",
   "version": "3.12.2"
  }
 },
 "nbformat": 4,
 "nbformat_minor": 2
}
