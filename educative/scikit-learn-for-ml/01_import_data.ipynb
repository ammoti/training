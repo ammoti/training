{
 "cells": [
  {
   "cell_type": "code",
   "execution_count": 13,
   "metadata": {},
   "outputs": [
    {
     "name": "stdout",
     "output_type": "stream",
     "text": [
      "[[5.1 3.5 1.4 0.2]\n",
      " [4.9 3.  1.4 0.2]\n",
      " [4.7 3.2 1.3 0.2]\n",
      " [4.6 3.1 1.5 0.2]\n",
      " [5.  3.6 1.4 0.2]]\n",
      "['sepal length (cm)', 'sepal width (cm)', 'petal length (cm)', 'petal width (cm)']\n",
      "['setosa' 'versicolor' 'virginica']\n",
      "[0 0 0 0 0]\n"
     ]
    }
   ],
   "source": [
    "from sklearn.datasets import load_iris\n",
    "\n",
    "# Load the iris dataset\n",
    "iris = load_iris()\n",
    "\n",
    "# Print the iris data\n",
    "print(iris.data[:5])\n",
    "\n",
    "# Print the iris feature names\n",
    "print(iris.feature_names)\n",
    "\n",
    "# Print the iris target names\n",
    "print(iris.target_names)\n",
    "\n",
    "# Print the iris target\n",
    "print(iris.target[:5])\n"
   ]
  },
  {
   "cell_type": "code",
   "execution_count": 2,
   "metadata": {},
   "outputs": [
    {
     "name": "stdout",
     "output_type": "stream",
     "text": [
      "   V  H  P\n",
      "0  1  3  5\n",
      "1  2  4  6\n",
      "2  5  1  4\n",
      "3  6  2  3\n",
      "4  3  5  1\n"
     ]
    }
   ],
   "source": [
    "import pandas as pd\n",
    "\n",
    "data = pd.read_csv(\"sample-data.csv\")\n",
    "print(data.head())\n"
   ]
  },
  {
   "cell_type": "code",
   "execution_count": 7,
   "metadata": {},
   "outputs": [],
   "source": [
    "from sklearn.datasets import make_regression\n",
    "import matplotlib.pyplot as plt\n",
    "\n",
    "X, y = make_regression(n_samples=100, n_features=2, noise=0.2, random_state=42)\n",
    "\n",
    "fig, ax = plt.subplots(figsize=(7, 3.5), dpi=300)\n",
    "ax.scatter(X[:, 0], y)\n",
    "ax.set_xlabel(\"Feature 1\")\n",
    "ax.set_ylabel(\"Target\")\n",
    "ax.set_title(\"Regression dataset\")\n",
    "\n",
    "fig.subplots_adjust(left=0.1, right=0.9, bottom=0.2, top=0.9)\n",
    "fig.savefig(\"output/regression_dataset.png\")\n",
    "plt.close(fig)\n"
   ]
  },
  {
   "cell_type": "code",
   "execution_count": 9,
   "metadata": {},
   "outputs": [],
   "source": [
    "from sklearn.datasets import make_blobs\n",
    "\n",
    "X, y = make_blobs(\n",
    "    n_samples=100, n_features=2, centers=4, cluster_std=0.5, random_state=42\n",
    ")\n",
    "# Plot the data\n",
    "fig, ax = plt.subplots(figsize=(7, 3.5), dpi=300)\n",
    "ax.scatter(X[:, 0], X[:, 1], c=y)\n",
    "ax.set_xlabel(\"Feature 1\")\n",
    "ax.set_ylabel(\"Feature 2\")\n",
    "ax.set_title(\"Blob dataset\")\n",
    "\n",
    "fig.subplots_adjust(left=0.1, right=0.9, bottom=0.2, top=0.9)\n",
    "fig.savefig(\"output/blob_dataset.png\")\n",
    "plt.close(fig)\n"
   ]
  },
  {
   "cell_type": "code",
   "execution_count": 10,
   "metadata": {},
   "outputs": [],
   "source": [
    "from sklearn.datasets import make_friedman1, make_sparse_uncorrelated\n",
    "\n",
    "X, y = make_friedman1(n_samples=100, n_features=5, noise=1.0, random_state=42)\n",
    "\n",
    "# Plot the data\n",
    "fig, ax = plt.subplots(figsize=(7, 3.5), dpi=300)\n",
    "ax.scatter(X[:, 0], y)\n",
    "ax.set_xlabel(\"Feature 1\")\n",
    "ax.set_ylabel(\"Target\")\n",
    "ax.set_title(\"Friedman dataset\")\n",
    "\n",
    "fig.subplots_adjust(left=0.1, right=0.9, bottom=0.2, top=0.9)\n",
    "fig.savefig(\"output/friedman_dataset.png\")\n",
    "plt.close(fig)\n",
    "\n",
    "X, y = make_sparse_uncorrelated(n_samples=100, n_features=5, random_state=42)\n",
    "\n",
    "# Plot the data\n",
    "fig, ax = plt.subplots(figsize=(7, 3.5), dpi=300)\n",
    "ax.scatter(X[:, 0], y)\n",
    "ax.set_xlabel(\"Feature 1\")\n",
    "ax.set_ylabel(\"Target\")\n",
    "ax.set_title(\"Sparse uncorrelated dataset\")\n",
    "\n",
    "fig.subplots_adjust(left=0.1, right=0.9, bottom=0.2, top=0.9)\n",
    "fig.savefig(\"output/sparse_uncorrelated_dataset.png\")\n",
    "plt.close(fig)\n"
   ]
  }
 ],
 "metadata": {
  "kernelspec": {
   "display_name": ".venv",
   "language": "python",
   "name": "python3"
  },
  "language_info": {
   "codemirror_mode": {
    "name": "ipython",
    "version": 3
   },
   "file_extension": ".py",
   "mimetype": "text/x-python",
   "name": "python",
   "nbconvert_exporter": "python",
   "pygments_lexer": "ipython3",
   "version": "3.12.2"
  }
 },
 "nbformat": 4,
 "nbformat_minor": 2
}
