{
 "cells": [
  {
   "cell_type": "code",
   "execution_count": null,
   "metadata": {},
   "outputs": [],
   "source": [
    "from sklearn.feature_extraction import FeatureHasher\n",
    "import pandas as pd\n",
    "\n",
    "# Import data\n",
    "data = pd.read_csv('data/car-data.csv')\n",
    "# Create the FeatureHasher object\n",
    "hasher = FeatureHasher(n_features=6, input_type='string')\n",
    "\n",
    "# Transform the categorical variable into an iterable of iterables of strings\n",
    "profession_iterable = data['Brand'].apply(lambda x: [x])\n",
    "\n",
    "features = hasher.transform(profession_iterable)\n",
    "\n",
    "# Print the resulting features\n",
    "print(features.toarray())"
   ]
  }
 ],
 "metadata": {
  "kernelspec": {
   "display_name": ".venv",
   "language": "python",
   "name": "python3"
  },
  "language_info": {
   "codemirror_mode": {
    "name": "ipython",
    "version": 3
   },
   "file_extension": ".py",
   "mimetype": "text/x-python",
   "name": "python",
   "nbconvert_exporter": "python",
   "pygments_lexer": "ipython3",
   "version": "3.12.2"
  }
 },
 "nbformat": 4,
 "nbformat_minor": 2
}
